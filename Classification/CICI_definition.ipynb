{
 "cells": [
  {
   "cell_type": "code",
   "execution_count": 1,
   "metadata": {},
   "outputs": [],
   "source": [
    "import time\n",
    "import warnings\n",
    "warnings.filterwarnings(\"ignore\")\n",
    "import pandas as pd\n",
    "import numpy as np\n",
    "from sklearn.model_selection import train_test_split\n",
    "from sklearn import model_selection\n",
    "from sklearn.model_selection import cross_val_score\n",
    "from sklearn.neighbors import KNeighborsClassifier\n",
    "from sklearn.svm import SVC\n",
    "from sklearn.tree import DecisionTreeClassifier\n",
    "from sklearn.ensemble import RandomForestClassifier\n",
    "from sklearn.ensemble import AdaBoostClassifier\n",
    "from sklearn.linear_model import LogisticRegression\n",
    "from sklearn.naive_bayes import GaussianNB\n",
    "from sklearn.discriminant_analysis import LinearDiscriminantAnalysis\n",
    "from sklearn.discriminant_analysis import QuadraticDiscriminantAnalysis\n",
    "from sklearn.neural_network import MLPClassifier\n",
    "from sklearn.metrics import precision_score, recall_score, confusion_matrix, classification_report, accuracy_score, f1_score\n",
    "from sklearn import metrics\n",
    "from sklearn.pipeline import make_pipeline\n",
    "import os\n",
    "from pathlib import Path\n",
    "import seaborn as sns\n",
    "import matplotlib.pyplot as plt\n",
    "import itertools"
   ]
  },
  {
   "cell_type": "code",
   "execution_count": 2,
   "metadata": {},
   "outputs": [],
   "source": [
    "# labeling\n",
    "# Get Dataset\n",
    "files={\n",
    "    'CICI':'/home/irteam/jiwlgus048-dcloud-dir/MLAC/data/encoded_ConcatedCICI.csv',\n",
    "    'UNSW': '/home/irteam/jiwlgus048-dcloud-dir/MLAC/data/encoded_ConcatedUNSW.csv'\n",
    "}\n",
    "\n",
    "data = pd.read_csv(files['CICI'])\n",
    "data=data[np.isfinite(data).all(1)] # nan값 or 무한대값을 포함하지 않음"
   ]
  },
  {
   "cell_type": "code",
   "execution_count": 3,
   "metadata": {},
   "outputs": [],
   "source": [
    "multiclass_labels=data['new_attack_category']\n",
    "data=data.drop(labels=['label','attack_category','new_attack_category'],axis=1)"
   ]
  },
  {
   "cell_type": "code",
   "execution_count": 4,
   "metadata": {},
   "outputs": [
    {
     "data": {
      "text/plain": [
       "0    5759318\n",
       "2     403181\n",
       "7     175828\n",
       "9      59167\n",
       "3      25621\n",
       "4      18100\n",
       "1      13835\n",
       "6       7006\n",
       "8       2180\n",
       "5         11\n",
       "Name: new_attack_category, dtype: int64"
      ]
     },
     "execution_count": 4,
     "metadata": {},
     "output_type": "execute_result"
    }
   ],
   "source": [
    "multiclass_labels.value_counts()"
   ]
  },
  {
   "cell_type": "code",
   "execution_count": 5,
   "metadata": {},
   "outputs": [
    {
     "data": {
      "text/plain": [
       "Index(['protocol', 'flow_duration', 'tot_fwd_pkts', 'tot_bwd_pkts',\n",
       "       'tot_len_fwd_pkts', 'tot_len_bwd_pkts', 'fwd_pkt_len_max',\n",
       "       'fwd_pkt_len_min', 'fwd_pkt_len_mean', 'fwd_pkt_len_std',\n",
       "       'bwd_pkt_len_max', 'bwd_pkt_len_min', 'bwd_pkt_len_mean',\n",
       "       'bwd_pkt_len_std', 'flow_byts_s', 'flow_pkts_s', 'flow_iat_mean',\n",
       "       'flow_iat_std', 'flow_iat_max', 'flow_iat_min', 'fwd_iat_tot',\n",
       "       'fwd_iat_mean', 'fwd_iat_std', 'fwd_iat_max', 'fwd_iat_min',\n",
       "       'bwd_iat_tot', 'bwd_iat_mean', 'bwd_iat_std', 'bwd_iat_max',\n",
       "       'bwd_iat_min', 'fwd_psh_flags', 'bwd_psh_flags', 'fwd_urg_flags',\n",
       "       'bwd_urg_flags', 'fwd_header_len', 'bwd_header_len', 'fwd_pkts_s',\n",
       "       'bwd_pkts_s', 'pkt_len_min', 'pkt_len_max', 'pkt_len_mean',\n",
       "       'pkt_len_std', 'pkt_len_var', 'fin_flag_cnt', 'syn_flag_cnt',\n",
       "       'rst_flag_cnt', 'psh_flag_cnt', 'ack_flag_cnt', 'urg_flag_cnt',\n",
       "       'cwe_flag_count', 'ece_flag_cnt', 'down_up_ratio', 'pkt_size_avg',\n",
       "       'fwd_seg_size_avg', 'bwd_seg_size_avg', 'fwd_byts_b_avg',\n",
       "       'fwd_pkts_b_avg', 'fwd_blk_rate_avg', 'bwd_byts_b_avg',\n",
       "       'bwd_pkts_b_avg', 'bwd_blk_rate_avg', 'subflow_fwd_pkts',\n",
       "       'subflow_fwd_byts', 'subflow_bwd_pkts', 'subflow_bwd_byts',\n",
       "       'init_fwd_win_byts', 'init_bwd_win_byts', 'fwd_act_data_pkts',\n",
       "       'fwd_seg_size_min', 'active_mean', 'active_std', 'active_max',\n",
       "       'active_min', 'idle_mean', 'idle_std', 'idle_max', 'idle_min'],\n",
       "      dtype='object')"
      ]
     },
     "execution_count": 5,
     "metadata": {},
     "output_type": "execute_result"
    }
   ],
   "source": [
    "data.columns"
   ]
  },
  {
   "cell_type": "code",
   "execution_count": 6,
   "metadata": {},
   "outputs": [],
   "source": [
    "# importance 높은 feature 삭제\n",
    "del data['fwd_psh_flags']\n",
    "del data['bwd_psh_flags']\n",
    "del data['fwd_urg_flags']\n",
    "del data['bwd_urg_flags']\n",
    "del data['rst_flag_cnt']\n",
    "del data['urg_flag_cnt']\n",
    "del data['cwe_flag_count']\n",
    "del data['ece_flag_cnt']\n",
    "del data['fwd_byts_b_avg']\n",
    "del data['init_fwd_win_byts']\n",
    "del data['fwd_seg_size_min']"
   ]
  },
  {
   "cell_type": "code",
   "execution_count": 7,
   "metadata": {},
   "outputs": [],
   "source": [
    "# Define Models\n",
    "models = []\n",
    "models.append(('RF', RandomForestClassifier(max_depth=5, n_estimators=5, max_features=3)))    \n",
    "models.append(('CART', DecisionTreeClassifier(max_depth=5)))\n",
    "models.append(('NB', GaussianNB()))\n",
    "models.append(('LDA', LinearDiscriminantAnalysis()))\n",
    "models.append(('QDA', QuadraticDiscriminantAnalysis()))\n",
    "models.append(('LR', LogisticRegression(solver='lbfgs', max_iter=200)))\n",
    "models.append(('ABoost', AdaBoostClassifier()))\n",
    "models.append(('KNN', KNeighborsClassifier()))\n",
    "models.append(('MLP', MLPClassifier()))"
   ]
  },
  {
   "cell_type": "code",
   "execution_count": 8,
   "metadata": {},
   "outputs": [],
   "source": [
    "df=pd.DataFrame(columns=['name','acc','f1_mi','f1_ma','f1_we','recall_mi','recall_ma','recall_we']+\\\n",
    "                 ['precision_mi','precision_ma','precision_we'])\n",
    "eval_path='/home/irteam/jiwlgus048-dcloud-dir/MLAC/evaluation'\n",
    "\n",
    "confusion_path='/home/irteam/jiwlgus048-dcloud-dir/MLAC/confusion_matrix/cici_definition'\n",
    "if os.path.isdir(confusion_path)==False:\n",
    "    os.mkdir(confusion_path)\n",
    "cnt=0"
   ]
  },
  {
   "cell_type": "code",
   "execution_count": 9,
   "metadata": {},
   "outputs": [],
   "source": [
    "X_train,X_test,y_train,y_test=train_test_split(data,multiclass_labels,test_size=0.3, shuffle=True, stratify=multiclass_labels, random_state=34)"
   ]
  },
  {
   "cell_type": "code",
   "execution_count": 10,
   "metadata": {},
   "outputs": [],
   "source": [
    "# confusion matrix plot\n",
    "def plot_confusion_matrix(con_mat,labels,title:str,cmap=plt.cm.get_cmap('Blues'),normalize=False):\n",
    "    plt.imshow(con_mat,interpolation='nearest',cmap=cmap)\n",
    "    plt.title(title)\n",
    "    plt.colorbar()\n",
    "    marks=np.arange(len(labels))\n",
    "    nlabels=[]\n",
    "    for k in range(len(con_mat)):\n",
    "        n=sum(con_mat[k])\n",
    "        nlabel='{0}(n={1})'.format(labels[k],n)\n",
    "        nlabels.append(nlabel)\n",
    "\n",
    "    plt.xticks(marks,labels,rotation=45)\n",
    "    plt.yticks(marks,nlabels)\n",
    "\n",
    "    thresh=con_mat.max()/2.\n",
    "    if normalize:\n",
    "        for i, j in itertools.product(range(con_mat.shape[0]), range(con_mat.shape[1])):\n",
    "            plt.text(j, i, '{0}%'.format(con_mat[i, j] * 100 / n), horizontalalignment=\"center\", color=\"white\" if con_mat[i, j] > thresh else \"black\")\n",
    "    else:\n",
    "        for i, j in itertools.product(range(con_mat.shape[0]), range(con_mat.shape[1])):\n",
    "            plt.text(j, i, con_mat[i, j], horizontalalignment=\"center\", color=\"white\" if con_mat[i, j] > thresh else \"black\")\n",
    "    plt.tight_layout()\n",
    "    plt.ylabel('True label')\n",
    "    plt.xlabel('Predicted label')\n",
    "    #plt.show()\n",
    "    #이미지 저장\n",
    "    plt.savefig(confusion_path+'/'+title+'.png',facecolor='#eeeeee',edgecolor='blue',pad_inches=0.5)\n",
    "    plt.clf()"
   ]
  },
  {
   "cell_type": "code",
   "execution_count": 11,
   "metadata": {},
   "outputs": [
    {
     "name": "stdout",
     "output_type": "stream",
     "text": [
      "training start...RF\n",
      "모델 training 소요 시간: 30.02초\n",
      "evaluation start...\n",
      "모델 test 소요 시간: 1.22초\n",
      "name:RF,acc:0.9634368514006523,f1_score:0.9634368514006523,0.38409897193502907,0.9584911347791916,recall:0.9634368514006523,0.36095962990364266,0.9634368514006523,precision:0.9634368514006523,0.43172733338673774,0.9580212618819397\n",
      "training start...CART\n",
      "모델 training 소요 시간: 116.88초\n",
      "evaluation start...\n",
      "모델 test 소요 시간: 0.40초\n",
      "name:CART,acc:0.9661693158525738,f1_score:0.9661693158525738,0.43472864132497097,0.9577700599436256,recall:0.9661693158525738,0.40631587215345794,0.9661693158525738,precision:0.9661693158525738,0.47474782237675833,0.9498613876025518\n",
      "training start...NB\n",
      "모델 training 소요 시간: 4.98초\n",
      "evaluation start...\n",
      "모델 test 소요 시간: 9.44초\n",
      "name:NB,acc:0.7629825579146846,f1_score:0.7629825579146846,0.35620300465208543,0.8319653368165587,recall:0.7629825579146846,0.6269643669718175,0.7629825579146846,precision:0.7629825579146846,0.3473753675053436,0.9302741606287654\n",
      "training start...LDA\n",
      "모델 training 소요 시간: 41.37초\n",
      "evaluation start...\n",
      "모델 test 소요 시간: 0.33초\n",
      "name:LDA,acc:0.9427110647020149,f1_score:0.9427110647020148,0.449405233077145,0.9476886705694978,recall:0.9427110647020149,0.671875664464896,0.9427110647020149,precision:0.9427110647020149,0.4233448855360481,0.9548392550416744\n",
      "training start...QDA\n",
      "모델 training 소요 시간: 21.64초\n",
      "evaluation start...\n",
      "모델 test 소요 시간: 16.69초\n",
      "name:QDA,acc:0.9342228410101713,f1_score:0.9342228410101713,0.4227111692374129,0.9503831034432968,recall:0.9342228410101713,0.6398903217648184,0.9342228410101713,precision:0.9342228410101713,0.4117792394199421,0.9725226903051323\n",
      "training start...LR\n",
      "모델 training 소요 시간: 607.59초\n",
      "evaluation start...\n",
      "모델 test 소요 시간: 0.37초\n",
      "name:LR,acc:0.9713738381611685,f1_score:0.9713738381611685,0.48605807967956177,0.9694957867527089,recall:0.9713738381611685,0.47823345341236206,0.9713738381611685,precision:0.9713738381611685,0.512475102864145,0.968697081737535\n",
      "training start...ABoost\n",
      "모델 training 소요 시간: 1607.12초\n",
      "evaluation start...\n",
      "모델 test 소요 시간: 45.05초\n",
      "name:ABoost,acc:0.8579278338554357,f1_score:0.8579278338554357,0.16946811759015254,0.8801799272149405,recall:0.8579278338554357,0.24667520997417247,0.8579278338554357,precision:0.8579278338554357,0.19851983458519656,0.9120546209272258\n",
      "training start...KNN\n",
      "모델 training 소요 시간: 0.43초\n",
      "evaluation start...\n"
     ]
    }
   ],
   "source": [
    "for name, model in models:\n",
    "\n",
    "    model=make_pipeline(model)\n",
    "    print('training start...'+name)\n",
    "    start_time=time.time()\n",
    "    model.fit(X_train,y_train)\n",
    "    end_time=time.time()\n",
    "    \n",
    "    print(\"모델 training 소요 시간: {:.2f}초\".format(end_time - start_time))\n",
    "\n",
    "\n",
    "    #evaluation\n",
    "    \n",
    "    print('evaluation start...')\n",
    "    start_time=time.time()\n",
    "    y_pred=model.predict(X_test)\n",
    "    end_time=time.time()\n",
    "    print(\"모델 test 소요 시간: {:.2f}초\".format(end_time - start_time))\n",
    "\n",
    "    #evaluation result\n",
    "    model_eval=[]\n",
    "    model_eval.append(name)\n",
    "    \n",
    "    acc = accuracy_score(y_test, y_pred)\n",
    "    f1_mi = f1_score(y_test, y_pred,average='micro')\n",
    "    f1_ma = f1_score(y_test, y_pred,average='macro')\n",
    "    f1_we = f1_score(y_test, y_pred,average='weighted')\n",
    "    recall_mi = recall_score(y_test, y_pred, average='micro')\n",
    "    recall_ma = recall_score(y_test, y_pred, average='macro')\n",
    "    recall_we = recall_score(y_test, y_pred, average='weighted')\n",
    "    precision_mi = precision_score(y_test, y_pred, average='micro')\n",
    "    precision_ma = precision_score(y_test, y_pred, average='macro')\n",
    "    precision_we = precision_score(y_test, y_pred, average='weighted')\n",
    "    \n",
    "    model_eval.append(acc)\n",
    "    model_eval.append(f1_mi)\n",
    "    model_eval.append(f1_ma)\n",
    "    model_eval.append(f1_we)\n",
    "    model_eval.append(recall_mi)\n",
    "    model_eval.append(recall_ma)\n",
    "    model_eval.append(recall_we)\n",
    "    model_eval.append(precision_mi)\n",
    "    model_eval.append(precision_ma)\n",
    "    model_eval.append(precision_we)\n",
    "\n",
    "\n",
    "    #confusion_metrics\n",
    "    confusion=metrics.confusion_matrix(y_test,y_pred)\n",
    "    plot_confusion_matrix(confusion,labels=['Benign', 'Brute Force', 'Dos', 'Fuzzers']+\\\n",
    "                          ['Generic', 'Heartbleed', 'Malware', 'Reconnaissance', 'Web Attack', 'unauthorized access'],title=name)\n",
    "\n",
    "\n",
    "    print(f'name:{name},acc:{acc},f1_score:{f1_mi},{f1_ma},{f1_we},recall:{recall_mi},{recall_ma},{recall_we},precision:{precision_mi},{precision_ma},{precision_we}')\n",
    "    df.loc[cnt]=model_eval\n",
    "\n",
    "    cnt+=1\n",
    "    \n",
    "\n",
    "df.to_csv(os.path.join(eval_path,'new_cici.csv'),index=False)"
   ]
  }
 ],
 "metadata": {
  "interpreter": {
   "hash": "31f2aee4e71d21fbe5cf8b01ff0e069b9275f58929596ceb00d14d90e3e16cd6"
  },
  "kernelspec": {
   "display_name": "Python 3.6.9 64-bit",
   "language": "python",
   "name": "python3"
  },
  "language_info": {
   "codemirror_mode": {
    "name": "ipython",
    "version": 3
   },
   "file_extension": ".py",
   "mimetype": "text/x-python",
   "name": "python",
   "nbconvert_exporter": "python",
   "pygments_lexer": "ipython3",
   "version": "3.6.9"
  },
  "orig_nbformat": 4
 },
 "nbformat": 4,
 "nbformat_minor": 2
}
